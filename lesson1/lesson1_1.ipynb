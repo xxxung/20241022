{
 "cells": [
  {
   "cell_type": "code",
   "execution_count": 2,
   "metadata": {},
   "outputs": [
    {
     "name": "stdout",
     "output_type": "stream",
     "text": [
      "Hello Python!\n",
      "3\n"
     ]
    }
   ],
   "source": [
    "print('Hello Python!')\n"
   ]
  },
  {
   "cell_type": "code",
   "execution_count": 15,
   "metadata": {},
   "outputs": [
    {
     "data": {
      "text/plain": [
       "64"
      ]
     },
     "execution_count": 15,
     "metadata": {},
     "output_type": "execute_result"
    }
   ],
   "source": [
    "n=4\n",
    "n**=3\n",
    "n"
   ]
  },
  {
   "cell_type": "code",
   "execution_count": 18,
   "metadata": {},
   "outputs": [
    {
     "data": {
      "text/plain": [
       "70"
      ]
     },
     "execution_count": 18,
     "metadata": {},
     "output_type": "execute_result"
    }
   ],
   "source": [
    "n+=2\n",
    "n"
   ]
  },
  {
   "cell_type": "markdown",
   "metadata": {},
   "source": [
    "## 單行文字"
   ]
  },
  {
   "cell_type": "code",
   "execution_count": 20,
   "metadata": {},
   "outputs": [
    {
     "name": "stdout",
     "output_type": "stream",
     "text": [
      "Racial 主要指的是天生的膚色差別，與歧視有關的字眼多使用Racial；而Ethnic 主要指的是後天的文化差異，也有異國風情的意思\n"
     ]
    }
   ],
   "source": [
    "poem='Racial 主要指的是天生的膚色差別，與歧視有關的字眼多使用Racial；\\\n",
    "而Ethnic 主要指的是後天的文化差異，\\\n",
    "也有異國風情的意思'\n",
    "print(poem)   #顯示出來還會是單行文字，在撰寫時更有利看"
   ]
  },
  {
   "cell_type": "markdown",
   "metadata": {},
   "source": [
    "## 多行文字\n",
    "- \"\"\"三個雙引號貨單引號能夠自動輸出換行\"\"\""
   ]
  },
  {
   "cell_type": "code",
   "execution_count": 21,
   "metadata": {},
   "outputs": [
    {
     "name": "stdout",
     "output_type": "stream",
     "text": [
      "Racial 主要指的是天生的膚色差別，\n",
      "與歧視有關的字眼多使用Racial；\n",
      "而Ethnic 主要指的是後天的文化差異，\n",
      "也有異國風情的意思\n"
     ]
    }
   ],
   "source": [
    "poem2=\"\"\"Racial 主要指的是天生的膚色差別，\n",
    "與歧視有關的字眼多使用Racial；\n",
    "而Ethnic 主要指的是後天的文化差異，\n",
    "也有異國風情的意思\"\"\"\n",
    "print(poem2) "
   ]
  },
  {
   "cell_type": "code",
   "execution_count": 25,
   "metadata": {},
   "outputs": [
    {
     "name": "stdout",
     "output_type": "stream",
     "text": [
      "蘋果3顆，香蕉4根\n",
      "蘋果3顆，香蕉4根\n"
     ]
    }
   ],
   "source": [
    "#字串差補\n",
    "apple=3\n",
    "banana=4\n",
    "orange=5\n",
    "print('蘋果' + str(apple) + '顆，香蕉'+ str(banana)+'根')\n",
    "print(f'蘋果{apple}顆，香蕉{banana}根')    #要用大括號{}裡面放變數"
   ]
  },
  {
   "cell_type": "markdown",
   "metadata": {},
   "source": [
    "## 有input的數學運算"
   ]
  },
  {
   "cell_type": "code",
   "execution_count": 28,
   "metadata": {},
   "outputs": [
    {
     "name": "stdout",
     "output_type": "stream",
     "text": [
      "4\n",
      "上底2+下底2*高2//2=4\n"
     ]
    }
   ],
   "source": [
    "#求梯形面積\n",
    "top=int(input('請輸入上底:'))\n",
    "bottom=int(input('請輸入下底:'))\n",
    "height=int(input('請輸入高:'))\n",
    "result=(top+ bottom)*height//2\n",
    "print(result)\n",
    "print(f'上底{top}+下底{bottom}*高{height}//2={result}')"
   ]
  },
  {
   "cell_type": "code",
   "execution_count": 32,
   "metadata": {},
   "outputs": [
    {
     "name": "stdout",
     "output_type": "stream",
     "text": [
      "半徑:4.0 , 面積=50.27\n",
      "50.2654816\n"
     ]
    }
   ],
   "source": [
    "#求圓面積\n",
    "radius=float(input('請輸入半徑:'))\n",
    "pi=3.1415926\n",
    "area=pi*radius**2\n",
    "print(f'半徑:{radius} , 面積={area:.2f}')   #:.2f小數點兩位數\n",
    "print(area)"
   ]
  },
  {
   "cell_type": "code",
   "execution_count": 35,
   "metadata": {},
   "outputs": [
    {
     "name": "stdout",
     "output_type": "stream",
     "text": [
      "角度是:30.0\n"
     ]
    }
   ],
   "source": [
    "import math\n",
    "side=float(input('請輸入對邊:'))\n",
    "anthor_side=float(input('請輸入斜邊:'))\n",
    "radian = math.asin(side / anthor_side)\n",
    "degree=math.degrees(radian)\n",
    "print(f'角度是:{round(degree,ndigits=2)}')\n",
    "\n",
    "\n"
   ]
  },
  {
   "cell_type": "markdown",
   "metadata": {},
   "source": [
    "## IF"
   ]
  },
  {
   "cell_type": "code",
   "execution_count": 40,
   "metadata": {},
   "outputs": [
    {
     "name": "stdout",
     "output_type": "stream",
     "text": [
      "假的，妳數學再練練\n"
     ]
    }
   ],
   "source": [
    "if 5==4:\n",
    "    print('這是真的')\n",
    "else:\n",
    "    print('假的，妳數學再練練')"
   ]
  },
  {
   "cell_type": "code",
   "execution_count": 43,
   "metadata": {},
   "outputs": [
    {
     "name": "stdout",
     "output_type": "stream",
     "text": [
      "喝酒喝酒\n",
      "over\n"
     ]
    }
   ],
   "source": [
    "age = int(input('你幾歲?'))\n",
    "if age >=18:\n",
    "    print(\"喝酒喝酒\")\n",
    "else:\n",
    "    print(\"去睡覺吧你\")\n",
    "print('over')"
   ]
  },
  {
   "cell_type": "markdown",
   "metadata": {},
   "source": [
    "## 列表中最大值"
   ]
  },
  {
   "cell_type": "code",
   "execution_count": 45,
   "metadata": {},
   "outputs": [
    {
     "data": {
      "text/plain": [
       "6"
      ]
     },
     "execution_count": 45,
     "metadata": {},
     "output_type": "execute_result"
    }
   ],
   "source": [
    "max([2,3,4,5,6])"
   ]
  },
  {
   "cell_type": "markdown",
   "metadata": {},
   "source": [
    "## 列表中最小值"
   ]
  },
  {
   "cell_type": "code",
   "execution_count": 46,
   "metadata": {},
   "outputs": [
    {
     "data": {
      "text/plain": [
       "2"
      ]
     },
     "execution_count": 46,
     "metadata": {},
     "output_type": "execute_result"
    }
   ],
   "source": [
    "min([2,3,4,5,6])"
   ]
  },
  {
   "cell_type": "markdown",
   "metadata": {},
   "source": [
    "## 公斤和磅的轉換\n",
    "- 1公斤=2.20426磅\n",
    "- kilograms,pounds"
   ]
  },
  {
   "cell_type": "code",
   "execution_count": 16,
   "metadata": {},
   "outputs": [
    {
     "name": "stdout",
     "output_type": "stream",
     "text": [
      "我幫你公斤轉成磅\n",
      "56.0公斤的你\n",
      "有123.44磅\n"
     ]
    }
   ],
   "source": [
    "## 公斤轉成磅\n",
    "print('我幫你公斤轉成磅')\n",
    "kilograms=float(input('你幾公斤?'))\n",
    "print(f'{kilograms}公斤的你')\n",
    "result=kilograms * 2.20426\n",
    "print(f'有{result:.2f}磅')"
   ]
  },
  {
   "cell_type": "code",
   "execution_count": 17,
   "metadata": {},
   "outputs": [
    {
     "name": "stdout",
     "output_type": "stream",
     "text": [
      "磅轉成公斤\n",
      "123.0磅的你\n",
      "有55.80公斤\n"
     ]
    }
   ],
   "source": [
    "## 磅轉成公斤\n",
    "print(\"磅轉成公斤\")\n",
    "pounds=float(input('你幾磅?'))\n",
    "print(f'{pounds}磅的你')\n",
    "result2=pounds/2.20426\n",
    "print(f'有{result2:.2f}公斤')"
   ]
  }
 ],
 "metadata": {
  "kernelspec": {
   "display_name": "Python 3",
   "language": "python",
   "name": "python3"
  },
  "language_info": {
   "codemirror_mode": {
    "name": "ipython",
    "version": 3
   },
   "file_extension": ".py",
   "mimetype": "text/x-python",
   "name": "python",
   "nbconvert_exporter": "python",
   "pygments_lexer": "ipython3",
   "version": "3.10.15"
  }
 },
 "nbformat": 4,
 "nbformat_minor": 2
}
