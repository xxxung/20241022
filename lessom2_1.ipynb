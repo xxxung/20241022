{
 "cells": [
  {
   "cell_type": "markdown",
   "metadata": {},
   "source": [
    "## try except\n",
    "- except 可以多個"
   ]
  },
  {
   "cell_type": "code",
   "execution_count": 1,
   "metadata": {},
   "outputs": [
    {
     "name": "stdout",
     "output_type": "stream",
     "text": [
      "學生的分數:233分\n"
     ]
    }
   ],
   "source": [
    "#學生總分最高為300\n",
    "#如果分數超過300,就已300為基準\n",
    "#有些學生可以加分5%\n",
    "try:\n",
    "    scores=eval(input('請輸入學生分數(最高300分):'))   #eval 依據使用者輸入的純值,決定int,float+++\n",
    "except:\n",
    "    print(\"發生錯誤\")\n",
    "else:\n",
    "    if scores>300:\n",
    "        scores=300\n",
    "    is_add=input('學生是否符合加分條件?(y,n)')\n",
    "    if is_add == 'y':\n",
    "        print('加分')\n",
    "        scores *= 1.05\n",
    "        if scores > 300:\n",
    "            scores=300\n",
    "\n",
    "    print(f'學生的分數:{scores:.0f}分')"
   ]
  },
  {
   "cell_type": "code",
   "execution_count": 5,
   "metadata": {},
   "outputs": [
    {
     "name": "stdout",
     "output_type": "stream",
     "text": [
      "輸入格式錯誤\n",
      "程式結束\n"
     ]
    }
   ],
   "source": [
    "#學生總分最高為300\n",
    "#如果分數超過300,就已300為基準\n",
    "#有些學生可以加分5%\n",
    "try:\n",
    "    scores=eval(input('請輸入學生分數(最高300分):'))   #eval 依據使用者輸入的純值,決定int,float+++\n",
    "    if scores>300:\n",
    "        scores=300\n",
    "    is_add=input('學生是否符合加分條件?(y,n)')\n",
    "    if is_add == 'y':\n",
    "        print('加分')\n",
    "        scores *= 1.05\n",
    "        if scores > 300:\n",
    "            scores=300\n",
    "    print(f'學生的分數:{scores:.0f}分')\n",
    "except SyntaxError:\n",
    "    print('輸入格式錯誤')\n",
    "except Exception:\n",
    "    print('不知明錯誤')\n",
    "print('程式結束')"
   ]
  },
  {
   "cell_type": "markdown",
   "metadata": {},
   "source": [
    "## if...else..."
   ]
  },
  {
   "cell_type": "code",
   "execution_count": 12,
   "metadata": {},
   "outputs": [
    {
     "name": "stdout",
     "output_type": "stream",
     "text": [
      "及格\n",
      "甲\n"
     ]
    }
   ],
   "source": [
    "scores=int(input('請輸入學生分數:'))\n",
    "if scores >= 60:\n",
    "    print('及格')\n",
    "    if scores>=90:\n",
    "        print('甲')\n",
    "    else:\n",
    "        print('乙')\n",
    "else:\n",
    "    print(\"不及格\")\n",
    "    if scores >= 50:\n",
    "        print('丙')\n",
    "    else:\n",
    "        print('丁')"
   ]
  },
  {
   "cell_type": "code",
   "execution_count": 18,
   "metadata": {},
   "outputs": [
    {
     "name": "stdout",
     "output_type": "stream",
     "text": [
      "優\n"
     ]
    }
   ],
   "source": [
    "scores=int(input('請輸入學生分數:'))\n",
    "if scores >= 90:\n",
    "    print('優')\n",
    "else:\n",
    "    if scores>=80:\n",
    "        print('甲')\n",
    "    else:\n",
    "        if scores >= 70:\n",
    "            print('乙')\n",
    "        else:\n",
    "            if scores>=60:\n",
    "                print('丙')\n",
    "            else:\n",
    "                print('丁')"
   ]
  },
  {
   "cell_type": "code",
   "execution_count": 22,
   "metadata": {},
   "outputs": [
    {
     "name": "stdout",
     "output_type": "stream",
     "text": [
      "乙\n"
     ]
    }
   ],
   "source": [
    "scores=int(input('請輸入學生分數:'))\n",
    "if scores >= 90:\n",
    "    print('優')\n",
    "elif scores>=80:\n",
    "    print('甲')\n",
    "elif scores >= 70:\n",
    "    print('乙')\n",
    "elif scores>=60:\n",
    "    print('丙')\n",
    "else:\n",
    "    print('丁')"
   ]
  },
  {
   "cell_type": "code",
   "execution_count": 6,
   "metadata": {},
   "outputs": [
    {
     "name": "stdout",
     "output_type": "stream",
     "text": [
      "您輸入的格式錯誤\n"
     ]
    }
   ],
   "source": [
    "try:\n",
    "    height=eval(input(\"請輸入身高(cm):\"))\n",
    "    weight=eval(input(\"請輸入體重(kg)\"))\n",
    "    BMI=weight / (height/100)**2\n",
    "    print(f\"身高:{height}公分\")\n",
    "    print(f\"體重:{weight}公斤\")\n",
    "    print(f\"BMI:{BMI:.1f}\")\n",
    "    if BMI < 18.5:\n",
    "        print('體重過輕')\n",
    "    elif BMI < 24:\n",
    "        print('正常範圍')\n",
    "    elif BMI < 27:\n",
    "        print('過重')\n",
    "    elif BMI < 30:\n",
    "        print('輕度肥胖')\n",
    "    elif BMI <35:\n",
    "        print('中度肥胖')\n",
    "    else:\n",
    "        print('重度肥胖')\n",
    "except :\n",
    "    print('您輸入的格式錯誤')"
   ]
  }
 ],
 "metadata": {
  "kernelspec": {
   "display_name": "Python 3",
   "language": "python",
   "name": "python3"
  },
  "language_info": {
   "codemirror_mode": {
    "name": "ipython",
    "version": 3
   },
   "file_extension": ".py",
   "mimetype": "text/x-python",
   "name": "python",
   "nbconvert_exporter": "python",
   "pygments_lexer": "ipython3",
   "version": "3.10.15"
  }
 },
 "nbformat": 4,
 "nbformat_minor": 2
}
