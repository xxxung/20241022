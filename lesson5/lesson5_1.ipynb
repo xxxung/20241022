{
 "cells": [
  {
   "cell_type": "markdown",
   "metadata": {},
   "source": [
    "## 引數值的呼叫\n",
    "- 要依照順序\n",
    "- 直接給值"
   ]
  },
  {
   "cell_type": "code",
   "execution_count": null,
   "metadata": {},
   "outputs": [
    {
     "name": "stdout",
     "output_type": "stream",
     "text": [
      "您的餐點如下:\n",
      "酒:白酒\n",
      "主餐:牛排\n",
      "點心:蛋糕\n"
     ]
    }
   ],
   "source": [
    "def menu(wine:str, entree:str, dessert:str)->None:\n",
    "    print(\"您的餐點如下:\")\n",
    "    print(f\"酒:{wine}\")\n",
    "    print(f\"主餐:{entree}\")\n",
    "    print(f\"點心:{dessert}\")\n",
    "\n",
    "\n",
    "#引數值得呼叫 -> 依照順序\n",
    "menu(\"白酒\",\"牛排\",\"蛋糕\")\n"
   ]
  },
  {
   "cell_type": "markdown",
   "metadata": {},
   "source": [
    "## 引數名稱的呼叫\n",
    "- 所有都要引數名稱\n",
    "- 可以不用依照順序"
   ]
  },
  {
   "cell_type": "code",
   "execution_count": 4,
   "metadata": {},
   "outputs": [
    {
     "name": "stdout",
     "output_type": "stream",
     "text": [
      "您的餐點如下:\n",
      "酒:白酒\n",
      "主餐:牛排\n",
      "點心:蛋糕\n",
      "======================\n",
      "您的餐點如下:\n",
      "酒:琴酒\n",
      "主餐:火鍋\n",
      "點心:巧克力冰淇淋\n"
     ]
    }
   ],
   "source": [
    "def menu(wine:str, entree:str, dessert:str)->None:\n",
    "    print(\"您的餐點如下:\")\n",
    "    print(f\"酒:{wine}\")\n",
    "    print(f\"主餐:{entree}\")\n",
    "    print(f\"點心:{dessert}\")\n",
    "\n",
    "\n",
    "#引數名稱得呼叫 -> 不依照順序\n",
    "menu(wine=\"白酒\",entree=\"牛排\",dessert=\"蛋糕\")\n",
    "print(\"======================\")\n",
    "menu(wine=\"琴酒\",dessert=\"巧克力冰淇淋\",entree=\"火鍋\")"
   ]
  },
  {
   "cell_type": "markdown",
   "metadata": {},
   "source": [
    "## 混和呼叫\n",
    "- 前面 : 使用引數值\n",
    "- 後面 : 使用引數名稱"
   ]
  },
  {
   "cell_type": "code",
   "execution_count": 6,
   "metadata": {},
   "outputs": [
    {
     "name": "stdout",
     "output_type": "stream",
     "text": [
      "您的餐點如下:\n",
      "酒:白酒\n",
      "主餐:牛排\n",
      "點心:蛋糕\n",
      "============\n",
      "您的餐點如下:\n",
      "酒:啤酒\n",
      "主餐:牛肉麵\n",
      "點心:西瓜\n"
     ]
    }
   ],
   "source": [
    "def menu(wine:str, entree:str, dessert:str)->None:\n",
    "    print(\"您的餐點如下:\")\n",
    "    print(f\"酒:{wine}\")\n",
    "    print(f\"主餐:{entree}\")\n",
    "    print(f\"點心:{dessert}\")\n",
    "\n",
    "\n",
    "#混和呼叫 -> 前面使用引數值，後面使用引數名稱\n",
    "menu(\"白酒\",entree=\"牛排\",dessert=\"蛋糕\")\n",
    "print(\"============\")\n",
    "menu(\"啤酒\",dessert=\"西瓜\",entree=\"牛肉麵\")\n"
   ]
  },
  {
   "cell_type": "markdown",
   "metadata": {},
   "source": [
    "## 預設值"
   ]
  },
  {
   "cell_type": "code",
   "execution_count": 11,
   "metadata": {},
   "outputs": [
    {
     "name": "stdout",
     "output_type": "stream",
     "text": [
      "您的餐點如下:\n",
      "酒:白酒\n",
      "主餐:牛排\n",
      "點心:奶昔\n",
      "==========\n",
      "您的餐點如下:\n",
      "酒:白酒\n",
      "主餐:牛排\n",
      "點心:蛋糕\n"
     ]
    }
   ],
   "source": [
    "def menu(wine:str, entree:str, dessert:str=\"奶昔\")->None:\n",
    "    print(\"您的餐點如下:\")\n",
    "    print(f\"酒:{wine}\")\n",
    "    print(f\"主餐:{entree}\")\n",
    "    print(f\"點心:{dessert}\")\n",
    "\n",
    "\n",
    "#引數值得呼叫 -> 依照順序\n",
    "menu(\"白酒\",\"牛排\")\n",
    "print(\"==========\")\n",
    "menu(\"白酒\",\"牛排\",dessert='蛋糕')"
   ]
  },
  {
   "cell_type": "markdown",
   "metadata": {},
   "source": [
    "## 沒有限定數量的\"引數值\"呼叫"
   ]
  },
  {
   "cell_type": "code",
   "execution_count": 18,
   "metadata": {},
   "outputs": [
    {
     "name": "stdout",
     "output_type": "stream",
     "text": [
      "()\n",
      "('a', '1', 4, 6, 9.8)\n"
     ]
    }
   ],
   "source": [
    "# *args=沒有限定數量的引數值呼叫\n",
    "def print_args(*args)->None:\n",
    "    print(args)\n",
    "\n",
    "print_args()\n",
    "print_args('a','1',4,6,9.8,)"
   ]
  },
  {
   "cell_type": "markdown",
   "metadata": {},
   "source": [
    "## 沒有限定數量的\"引數名稱\"呼叫"
   ]
  },
  {
   "cell_type": "code",
   "execution_count": 20,
   "metadata": {},
   "outputs": [
    {
     "name": "stdout",
     "output_type": "stream",
     "text": [
      "{}\n",
      "{'one': '1', 'two': '2', 'three': '3'}\n"
     ]
    }
   ],
   "source": [
    "# **kwargs=>沒有限定數量的引數名稱呼叫\n",
    "def print_kargs(**kargs)->None:\n",
    "    print(kargs)\n",
    "\n",
    "print_kargs()\n",
    "print_kargs(one=\"1\",two=\"2\",three=\"3\")"
   ]
  },
  {
   "cell_type": "code",
   "execution_count": 16,
   "metadata": {},
   "outputs": [
    {
     "name": "stdout",
     "output_type": "stream",
     "text": [
      "()\n",
      "{}\n",
      "========\n",
      "(1, 2, 3, 4, 5)\n",
      "{'one': '1', 'two': '2'}\n"
     ]
    }
   ],
   "source": [
    "def print_all(*args,**kwargs):\n",
    "    print(args)\n",
    "    print(kwargs)\n",
    "\n",
    "print_all()\n",
    "print(\"========\")\n",
    "print_all(1,2,3,4,5,one=\"1\",two=\"2\")"
   ]
  },
  {
   "cell_type": "code",
   "execution_count": 22,
   "metadata": {},
   "outputs": [
    {
     "name": "stdout",
     "output_type": "stream",
     "text": [
      "=======\n",
      "\n",
      "\n",
      "=======\n"
     ]
    }
   ],
   "source": [
    "print(\"=======\")\n",
    "print()\n",
    "print()\n",
    "print(\"=======\")"
   ]
  },
  {
   "cell_type": "code",
   "execution_count": 1,
   "metadata": {},
   "outputs": [
    {
     "name": "stdout",
     "output_type": "stream",
     "text": [
      "1 2 3 4 5\n",
      "1,2,3,4,5\n"
     ]
    }
   ],
   "source": [
    "print(1,2,3,4,5)\n",
    "print(1,2,3,4,5,sep=\",\")"
   ]
  }
 ],
 "metadata": {
  "kernelspec": {
   "display_name": "Python 3",
   "language": "python",
   "name": "python3"
  },
  "language_info": {
   "codemirror_mode": {
    "name": "ipython",
    "version": 3
   },
   "file_extension": ".py",
   "mimetype": "text/x-python",
   "name": "python",
   "nbconvert_exporter": "python",
   "pygments_lexer": "ipython3",
   "version": "3.10.15"
  }
 },
 "nbformat": 4,
 "nbformat_minor": 2
}
