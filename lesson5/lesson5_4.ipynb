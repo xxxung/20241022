{
 "cells": [
  {
   "cell_type": "markdown",
   "metadata": {},
   "source": [
    "## dictionary"
   ]
  },
  {
   "cell_type": "code",
   "execution_count": 2,
   "metadata": {},
   "outputs": [],
   "source": [
    "code:dict = {\n",
    "    'tw':'Taiwan',\n",
    "    'jp':'Japan',\n",
    "    'hk':'Hong Kong'\n",
    "}"
   ]
  },
  {
   "cell_type": "code",
   "execution_count": 3,
   "metadata": {},
   "outputs": [
    {
     "data": {
      "text/plain": [
       "('Taiwan', 'Japan', 'Hong Kong')"
      ]
     },
     "execution_count": 3,
     "metadata": {},
     "output_type": "execute_result"
    }
   ],
   "source": [
    "#subscript->[key]\n",
    "code['tw'],code['jp'],code['hk']"
   ]
  },
  {
   "cell_type": "code",
   "execution_count": 4,
   "metadata": {},
   "outputs": [
    {
     "name": "stdout",
     "output_type": "stream",
     "text": [
      "tw\n",
      "Taiwan\n",
      "=========\n",
      "jp\n",
      "Japan\n",
      "=========\n",
      "hk\n",
      "Hong Kong\n",
      "=========\n"
     ]
    }
   ],
   "source": [
    "for key in code:\n",
    "    print(key)          #key\n",
    "    print(code[key])    #value  \n",
    "    print('=========')"
   ]
  },
  {
   "cell_type": "markdown",
   "metadata": {},
   "source": [
    "## items()"
   ]
  },
  {
   "cell_type": "code",
   "execution_count": 5,
   "metadata": {},
   "outputs": [
    {
     "data": {
      "text/plain": [
       "dict_items([('tw', 'Taiwan'), ('jp', 'Japan'), ('hk', 'Hong Kong')])"
      ]
     },
     "execution_count": 5,
     "metadata": {},
     "output_type": "execute_result"
    }
   ],
   "source": [
    "code.items()"
   ]
  },
  {
   "cell_type": "code",
   "execution_count": 6,
   "metadata": {},
   "outputs": [
    {
     "name": "stdout",
     "output_type": "stream",
     "text": [
      "tw\n",
      "Taiwan\n",
      "======\n",
      "jp\n",
      "Japan\n",
      "======\n",
      "hk\n",
      "Hong Kong\n",
      "======\n"
     ]
    }
   ],
   "source": [
    "for key,value in code.items():\n",
    "    print(key)\n",
    "    print(value)\n",
    "    print('======')"
   ]
  }
 ],
 "metadata": {
  "kernelspec": {
   "display_name": "Python 3",
   "language": "python",
   "name": "python3"
  },
  "language_info": {
   "codemirror_mode": {
    "name": "ipython",
    "version": 3
   },
   "file_extension": ".py",
   "mimetype": "text/x-python",
   "name": "python",
   "nbconvert_exporter": "python",
   "pygments_lexer": "ipython3",
   "version": "3.10.15"
  }
 },
 "nbformat": 4,
 "nbformat_minor": 2
}
