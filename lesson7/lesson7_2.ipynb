{
 "cells": [
  {
   "cell_type": "markdown",
   "metadata": {},
   "source": [
    "## __ name __\n",
    "- __ name __ == \"__ main __\" 用於檢查當前腳本是否是直接執行。\n",
    "- 當腳本作為模組導入時，__ name __ 會是模組的名字，這樣可以避免執行一些不必要的代碼。"
   ]
  },
  {
   "cell_type": "code",
   "execution_count": 33,
   "metadata": {},
   "outputs": [
    {
     "ename": "NameError",
     "evalue": "name 'generate_bmi' is not defined",
     "output_type": "error",
     "traceback": [
      "\u001b[0;31m---------------------------------------------------------------------------\u001b[0m",
      "\u001b[0;31mNameError\u001b[0m                                 Traceback (most recent call last)",
      "Cell \u001b[0;32mIn[33], line 2\u001b[0m\n\u001b[1;32m      1\u001b[0m \u001b[38;5;28;01mif\u001b[39;00m \u001b[38;5;18m__name__\u001b[39m \u001b[38;5;241m==\u001b[39m \u001b[38;5;124m'\u001b[39m\u001b[38;5;124m__main__\u001b[39m\u001b[38;5;124m'\u001b[39m:      \u001b[38;5;66;03m#此為主程式\u001b[39;00m\n\u001b[0;32m----> 2\u001b[0m     students \u001b[38;5;241m=\u001b[39m\u001b[43mgenerate_bmi\u001b[49m(get_name(nums\u001b[38;5;241m=\u001b[39mnums))\n\u001b[1;32m      3\u001b[0m     \u001b[38;5;66;03m# print(students)\u001b[39;00m\n\u001b[1;32m      4\u001b[0m     \u001b[38;5;28;01mfor\u001b[39;00m student \u001b[38;5;129;01min\u001b[39;00m students:\n",
      "\u001b[0;31mNameError\u001b[0m: name 'generate_bmi' is not defined"
     ]
    }
   ],
   "source": [
    "if __name__ == '__main__':      #此為主程式\n",
    "    students =generate_bmi(get_name(nums=nums))\n",
    "    # print(students)\n",
    "    for student in students:\n",
    "        for key,value in student.items():\n",
    "            print(f'{key}:{value}')\n",
    "        print('=========================')"
   ]
  },
  {
   "cell_type": "markdown",
   "metadata": {},
   "source": [
    "## class類別(工廠)\n",
    "- 產出實體object\n",
    "- 需要有自訂的初始化def __ init __(self,參數) , 以及新增參數\n",
    "- 建立 attribute (屬性)\n"
   ]
  },
  {
   "cell_type": "code",
   "execution_count": 14,
   "metadata": {},
   "outputs": [],
   "source": [
    "class Person(object):       #名稱大寫Person\n",
    "    def __init__(self):     #自訂的初始化\n",
    "        self.name = 'Hong'  #建立 attribute name\n",
    "        self.age = 23       #建立 attribute age\n",
    "\n"
   ]
  },
  {
   "cell_type": "code",
   "execution_count": 15,
   "metadata": {},
   "outputs": [
    {
     "data": {
      "text/plain": [
       "('Hong', 23)"
      ]
     },
     "execution_count": 15,
     "metadata": {},
     "output_type": "execute_result"
    }
   ],
   "source": [
    "p1:Person = Person()\n",
    "p1.name , p1.age"
   ]
  },
  {
   "cell_type": "code",
   "execution_count": 16,
   "metadata": {},
   "outputs": [
    {
     "data": {
      "text/plain": [
       "('Hong', 23)"
      ]
     },
     "execution_count": 16,
     "metadata": {},
     "output_type": "execute_result"
    }
   ],
   "source": [
    "p2:Person = Person()\n",
    "p2.name , p2.age"
   ]
  },
  {
   "cell_type": "code",
   "execution_count": 17,
   "metadata": {},
   "outputs": [],
   "source": [
    "class Person(object):       #名稱大寫Person\n",
    "    def __init__(self,name:str,age:int):     #自訂的初始化,自訂參數\n",
    "        self.name = name                     #建立 attribute name\n",
    "        self.age = age                       #建立 attribute age\n"
   ]
  },
  {
   "cell_type": "code",
   "execution_count": 21,
   "metadata": {},
   "outputs": [
    {
     "data": {
      "text/plain": [
       "('徐熙鴻', 23)"
      ]
     },
     "execution_count": 21,
     "metadata": {},
     "output_type": "execute_result"
    }
   ],
   "source": [
    "p1 = Person(name=\"徐熙鴻\",age=23)\n",
    "p1.name , p1.age"
   ]
  },
  {
   "cell_type": "code",
   "execution_count": 23,
   "metadata": {},
   "outputs": [
    {
     "data": {
      "text/plain": [
       "('圖影', 23)"
      ]
     },
     "execution_count": 23,
     "metadata": {},
     "output_type": "execute_result"
    }
   ],
   "source": [
    "p2 = Person('圖影',23)\n",
    "p2.name , p2.age"
   ]
  },
  {
   "cell_type": "code",
   "execution_count": 31,
   "metadata": {},
   "outputs": [],
   "source": [
    "class Person(object):       #名稱大寫Person\n",
    "    def __init__(self,name:str,age:int):     #自訂的初始化,自訂參數\n",
    "        self.name = name                     #建立 attribute name\n",
    "        self.age = age                       #建立 attribute age\n",
    "\n",
    "    def echo(self):                          #自訂實體方法\n",
    "        print(f'我的名字是{self.name}')\n",
    "        print(f'我的年齡是:{self.age}歲')"
   ]
  },
  {
   "cell_type": "code",
   "execution_count": 29,
   "metadata": {},
   "outputs": [
    {
     "name": "stdout",
     "output_type": "stream",
     "text": [
      "我的名字是徐熙鴻\n",
      "我的年齡是:23歲\n"
     ]
    }
   ],
   "source": [
    "p1 = Person(name=\"徐熙鴻\",age=23)\n",
    "p1.echo()\n"
   ]
  },
  {
   "cell_type": "code",
   "execution_count": 30,
   "metadata": {},
   "outputs": [
    {
     "name": "stdout",
     "output_type": "stream",
     "text": [
      "我的名字是圖影\n",
      "我的年齡是:23歲\n"
     ]
    }
   ],
   "source": [
    "p2 = Person('圖影',23)\n",
    "p2.echo()"
   ]
  }
 ],
 "metadata": {
  "kernelspec": {
   "display_name": "Python 3",
   "language": "python",
   "name": "python3"
  },
  "language_info": {
   "codemirror_mode": {
    "name": "ipython",
    "version": 3
   },
   "file_extension": ".py",
   "mimetype": "text/x-python",
   "name": "python",
   "nbconvert_exporter": "python",
   "pygments_lexer": "ipython3",
   "version": "3.10.15"
  }
 },
 "nbformat": 4,
 "nbformat_minor": 2
}
