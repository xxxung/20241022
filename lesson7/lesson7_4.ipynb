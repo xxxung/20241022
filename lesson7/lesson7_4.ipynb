{
 "cells": [
  {
   "cell_type": "markdown",
   "metadata": {},
   "source": [
    "## 物件導向"
   ]
  },
  {
   "cell_type": "code",
   "execution_count": 8,
   "metadata": {},
   "outputs": [],
   "source": [
    "class BMI():\n",
    "    def __init__(self,name:str,height:int,weight:int):\n",
    "        self.name = name\n",
    "        self.height = height\n",
    "        self.weight = weight\n",
    "\n",
    "    def get_bmi(self)->float:\n",
    "        return round(self.weight / (self.height/100) ** 2 , ndigits=2)\n",
    "    \n",
    "    def get_status(self)->str:\n",
    "        bmi =self.get_bmi()\n",
    "        if bmi >=35:\n",
    "            status = \"您的體重:重度肥胖\"\n",
    "        elif bmi >= 30:\n",
    "            status = \"您的體重:中度肥胖\"\n",
    "        elif bmi >= 27:\n",
    "            status = \"您的體重:輕度肥胖\"\n",
    "        elif bmi >= 24:\n",
    "            status = \"您的體重:過重\"\n",
    "        elif bmi >= 18.5:\n",
    "            status = \"您的體重:正常範圍\"\n",
    "        else:\n",
    "            status = \"您的體重:體重過輕\"\n",
    "        \n",
    "        return status\n",
    "        "
   ]
  },
  {
   "cell_type": "code",
   "execution_count": 9,
   "metadata": {},
   "outputs": [
    {
     "data": {
      "text/plain": [
       "(21.56, '您的體重:正常範圍')"
      ]
     },
     "execution_count": 9,
     "metadata": {},
     "output_type": "execute_result"
    }
   ],
   "source": [
    "p1 = BMI(name='徐熙鴻',height=164,weight=58)\n",
    "p1.get_bmi(),p1.get_status()"
   ]
  },
  {
   "cell_type": "code",
   "execution_count": 3,
   "metadata": {},
   "outputs": [
    {
     "data": {
      "text/plain": [
       "(19.24, '您的體重:正常範圍')"
      ]
     },
     "execution_count": 3,
     "metadata": {},
     "output_type": "execute_result"
    }
   ],
   "source": [
    "p2 = BMI(name='徐西瓜',height=188,weight=68)\n",
    "p2.get_bmi(),p1.get_status()"
   ]
  },
  {
   "cell_type": "markdown",
   "metadata": {},
   "source": [
    "## 改寫"
   ]
  },
  {
   "cell_type": "code",
   "execution_count": null,
   "metadata": {},
   "outputs": [
    {
     "name": "stdout",
     "output_type": "stream",
     "text": [
      "姓名:劉林中\n",
      "身高:173\n",
      "體重:65\n",
      "BMI:21.72\n",
      "狀態:您的體重:正常範圍\n",
      "====================\n",
      "姓名:林建宏\n",
      "身高:153\n",
      "體重:106\n",
      "BMI:45.28\n",
      "狀態:您的體重:重度肥胖\n",
      "====================\n",
      "姓名:胡淑貞\n",
      "身高:185\n",
      "體重:65\n",
      "BMI:18.99\n",
      "狀態:您的體重:正常範圍\n",
      "====================\n"
     ]
    }
   ],
   "source": [
    "import random\n",
    "def get_name(nums:int=2)->list[str]:\n",
    "    with open('names.txt',mode='r',encoding='utf-8') as file:\n",
    "        names_str = file.read()\n",
    "    names = names_str.split(sep='\\n')\n",
    "    names = random.choices(names,k=nums)\n",
    "    return names\n",
    "\n",
    "class BMI():\n",
    "    def __init__(self, name: str, height: int, weight: int):\n",
    "        self.name = name\n",
    "        self.height = height\n",
    "        self.weight = weight\n",
    "\n",
    "    def get_bmi(self) -> float:\n",
    "        return round(self.weight / (self.height / 100) ** 2, ndigits=2)\n",
    "\n",
    "    def get_status(self) -> str:\n",
    "        bmi = self.get_bmi()\n",
    "        if bmi >= 35:\n",
    "            status = \"您的體重:重度肥胖\"\n",
    "        elif bmi >= 30:\n",
    "            status = \"您的體重:中度肥胖\"\n",
    "        elif bmi >= 27:\n",
    "                status = \"您的體重:輕度肥胖\"\n",
    "        elif bmi >= 24:\n",
    "            status = \"您的體重:過重\"\n",
    "        elif bmi >= 18.5:\n",
    "            status = \"您的體重:正常範圍\"\n",
    "        else:\n",
    "            status = \"您的體重:體重過輕\"\n",
    "\n",
    "        return status\n",
    "\n",
    "def get_bmi(names:list[str])->list[BMI]:\n",
    "    students:list[BMI] = []\n",
    "    for name in names:\n",
    "        height = random.randint(140,190)\n",
    "        weight = random.randint(50, 110)\n",
    "        bmi = BMI(name=name,height=height,weight=weight)\n",
    "        students.append(bmi)\n",
    "    return students\n",
    "\n",
    "\n",
    "if __name__ == \"__main__\":\n",
    "    nums = int(input(\"請輸入人數:\"))\n",
    "    names = get_name(nums=nums)\n",
    "    students = get_bmi(names=names)\n",
    "    for student in students:\n",
    "        print(f'姓名:{student.name}')\n",
    "        print(f'身高:{student.height}')\n",
    "        print(f'體重:{student.weight}')\n",
    "        print(f'BMI:{student.get_bmi()}')\n",
    "        print(f'狀態:{student.get_status()}')\n",
    "        print('='*20)"
   ]
  },
  {
   "cell_type": "markdown",
   "metadata": {},
   "source": [
    "## list[dict]"
   ]
  },
  {
   "cell_type": "code",
   "execution_count": null,
   "metadata": {},
   "outputs": [],
   "source": [
    "import random\n",
    "import csv\n",
    "\n",
    "def get_name(nums:int=2)->list[str]:\n",
    "    with open('names.txt',mode='r',encoding='utf-8') as file:\n",
    "        names_str = file.read()\n",
    "    names = names_str.split(sep='\\n')\n",
    "    names = random.choices(names,k=nums)\n",
    "    return names\n",
    "\n",
    "\n",
    "def get_bmi(names:list[str])->list[dict]:\n",
    "    students:list[dict] = []\n",
    "    for name in names:\n",
    "        height = random.randint(140,190)\n",
    "        weight = random.randint(50, 110)\n",
    "        BMI = weight / ((height/100)**2)\n",
    "        if BMI >= 35:\n",
    "            status = \"重度肥胖\"\n",
    "        elif BMI >= 30:\n",
    "            status = \"中度肥胖\"\n",
    "        elif BMI >= 27:\n",
    "            status = \"輕度肥胖\"\n",
    "        elif BMI >= 24:\n",
    "            status = \"過重\"\n",
    "        elif BMI >= 18.5:\n",
    "            status = \"正常範圍\"\n",
    "        else:\n",
    "            status = \"體重過輕\"\n",
    "        student = {\n",
    "            '姓名':name,\n",
    "            '身高':height,\n",
    "            '體重':weight,\n",
    "            'BMI':round(BMI,2),\n",
    "            '狀態':status\n",
    "        }\n",
    "        students.append(student)\n",
    "    return students\n",
    "\n",
    "\n",
    "if __name__ == \"__main__\":\n",
    "    nums = int(input(\"請輸入人數:\"))\n",
    "    names = get_name(nums=nums)\n",
    "    students:list[dict] = get_bmi(names=names)\n",
    "    with open('bmi.csv',mode='w',encoding='utf-8',newline='') as file:\n",
    "        csv_writer = csv.DictWriter(file,fieldnames=['姓名','身高','體重','BMI','狀態'])\n",
    "        csv_writer.writeheader()\n",
    "        csv_writer.writerows(students)\n",
    "\n"
   ]
  },
  {
   "cell_type": "markdown",
   "metadata": {},
   "source": [
    "## list[BMI]->list[dict]"
   ]
  },
  {
   "cell_type": "code",
   "execution_count": 3,
   "metadata": {},
   "outputs": [],
   "source": [
    "import random\n",
    "import csv\n",
    "\n",
    "def get_names(naums:int=2)->list[str]:\n",
    "    with open('names.txt',mode='r',encoding='utf-8') as file:\n",
    "        namse_str = file.read()\n",
    "    names = namse_str.split(sep='\\n')\n",
    "    names = random.choices(names,k=nums)\n",
    "    return names\n",
    "\n",
    "class BMI():\n",
    "    def __init__(self,name:str,height:int,weight:int):\n",
    "        self.name = name\n",
    "        self.height = height\n",
    "        self.weight = weight\n",
    "\n",
    "    def get_bmi(self)->float:\n",
    "        return round(self.weight / (self.height / 100)**2,ndigits=2)\n",
    "\n",
    "    def get_status(self)->str:\n",
    "        bmi = self.get_bmi()\n",
    "        if bmi >= 35:\n",
    "            status = \"重度肥胖\"\n",
    "        elif bmi >= 30:\n",
    "            status = \"中度肥胖\"\n",
    "        elif bmi >= 27:\n",
    "            status = \"輕度肥胖\"\n",
    "        elif bmi >= 24:\n",
    "            status = \"過重\"\n",
    "        elif bmi >= 18.5:\n",
    "            status = \"正常範圍\"\n",
    "        else:\n",
    "            status = \"體重過輕\"\n",
    "        return status        \n",
    "\n",
    "def get_bmi(names:list[str])->list[BMI]:\n",
    "    students:list[BMI] = []\n",
    "    for name in names :\n",
    "        height = random.randint(150,210)\n",
    "        weight = random.randint(60,110)\n",
    "        stu_bmi = BMI(name=name , height=height ,weight=weight)\n",
    "        students.append(stu_bmi)\n",
    "    return students"
   ]
  },
  {
   "cell_type": "code",
   "execution_count": 4,
   "metadata": {},
   "outputs": [
    {
     "name": "stdout",
     "output_type": "stream",
     "text": [
      "姓名:陳倩妮\n",
      "身高:191\n",
      "體重:96\n",
      "BMI:26.32\n",
      "狀態:過重\n",
      "====================\n",
      "姓名:黃必琪\n",
      "身高:180\n",
      "體重:95\n",
      "BMI:29.32\n",
      "狀態:輕度肥胖\n",
      "====================\n",
      "姓名:陳志偉\n",
      "身高:198\n",
      "體重:79\n",
      "BMI:20.15\n",
      "狀態:正常範圍\n",
      "====================\n",
      "姓名:劉萬季\n",
      "身高:201\n",
      "體重:105\n",
      "BMI:25.99\n",
      "狀態:過重\n",
      "====================\n",
      "姓名:陳逸凡\n",
      "身高:152\n",
      "體重:77\n",
      "BMI:33.33\n",
      "狀態:中度肥胖\n",
      "====================\n"
     ]
    }
   ],
   "source": [
    "if __name__ == '__main__':\n",
    "    try:\n",
    "        nums = int(input(\"請輸入數量:\"))\n",
    "        names:list[str] = get_names(naums=nums)\n",
    "        students:list[BMI] = get_bmi(names=names)\n",
    "        student_dict:list[dict] = []\n",
    "        for student in students:\n",
    "            print(f'姓名:{student.name}')\n",
    "            print(f'身高:{student.height}')\n",
    "            print(f'體重:{student.weight}')\n",
    "            print(f'BMI:{student.get_bmi()}')\n",
    "            print(f'狀態:{student.get_status()}')\n",
    "            print('='*20)\n",
    "            dict = {\n",
    "                '姓名':student.name,\n",
    "                '身高(cm)':student.height,\n",
    "                '體重(kg)':student.weight,\n",
    "                'BMI':student.get_bmi(),\n",
    "                '狀態':student.get_status()\n",
    "            }\n",
    "            student_dict.append(dict)\n",
    "        with open('bmi.csv',mode='w',encoding='utf-8',newline='') as file:\n",
    "            writer = csv.DictWriter(file,fieldnames=['姓名','身高(cm)','體重(kg)','BMI','狀態'])\n",
    "            writer.writeheader()\n",
    "            writer.writerows(student_dict)\n",
    "    except:\n",
    "        print(\"輸入格式錯誤\")\n"
   ]
  },
  {
   "cell_type": "markdown",
   "metadata": {},
   "source": [
    "## 美化字典\n",
    "- pprint"
   ]
  },
  {
   "cell_type": "code",
   "execution_count": 7,
   "metadata": {},
   "outputs": [
    {
     "name": "stdout",
     "output_type": "stream",
     "text": [
      "[{'BMI': 26.32, '姓名': '陳倩妮', '狀態': '過重', '身高(cm)': 191, '體重(kg)': 96},\n",
      " {'BMI': 29.32, '姓名': '黃必琪', '狀態': '輕度肥胖', '身高(cm)': 180, '體重(kg)': 95},\n",
      " {'BMI': 20.15, '姓名': '陳志偉', '狀態': '正常範圍', '身高(cm)': 198, '體重(kg)': 79},\n",
      " {'BMI': 25.99, '姓名': '劉萬季', '狀態': '過重', '身高(cm)': 201, '體重(kg)': 105},\n",
      " {'BMI': 33.33, '姓名': '陳逸凡', '狀態': '中度肥胖', '身高(cm)': 152, '體重(kg)': 77}]\n"
     ]
    }
   ],
   "source": [
    "from pprint import pprint\n",
    "pprint( student_dict)"
   ]
  }
 ],
 "metadata": {
  "kernelspec": {
   "display_name": "Python 3",
   "language": "python",
   "name": "python3"
  },
  "language_info": {
   "codemirror_mode": {
    "name": "ipython",
    "version": 3
   },
   "file_extension": ".py",
   "mimetype": "text/x-python",
   "name": "python",
   "nbconvert_exporter": "python",
   "pygments_lexer": "ipython3",
   "version": "3.10.15"
  }
 },
 "nbformat": 4,
 "nbformat_minor": 2
}
