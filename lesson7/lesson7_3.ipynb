{
 "cells": [
  {
   "cell_type": "markdown",
   "metadata": {},
   "source": [
    "## 繼承"
   ]
  },
  {
   "cell_type": "code",
   "execution_count": 16,
   "metadata": {},
   "outputs": [],
   "source": [
    "class Person(object):                        #名稱大寫Person\n",
    "    def __init__(self,name:str,age:int):     #自訂的初始化,自訂參數\n",
    "        self.name = name                     #建立 attribute name\n",
    "        self.age = age                       #建立 attribute age\n",
    "\n",
    "    def echo(self):                          #自訂實體方法\n",
    "        print(f'我的名字是{self.name}')\n",
    "        print(f'我的年齡是:{self.age}歲')\n",
    "\n",
    "class Student(Person):                       #繼承\n",
    "    def __init__(self,name:str,age:int,score:int):\n",
    "        super().__init__(name=name,age=age)    \n",
    "        self.score = score                  #super(). 調用父類（superclass）的方法\n",
    "    def echo(self):\n",
    "        super().echo()\n",
    "        print(f'我的分數是{self.score}')"
   ]
  },
  {
   "cell_type": "code",
   "execution_count": 17,
   "metadata": {},
   "outputs": [
    {
     "name": "stdout",
     "output_type": "stream",
     "text": [
      "我的名字是徐西瓜\n",
      "我的年齡是:24歲\n",
      "我的分數是250\n"
     ]
    }
   ],
   "source": [
    "s1:Student = Student(name='徐西瓜',age=24,score=250)\n",
    "s1.echo()"
   ]
  },
  {
   "cell_type": "code",
   "execution_count": 18,
   "metadata": {},
   "outputs": [
    {
     "name": "stdout",
     "output_type": "stream",
     "text": [
      "我的名字是徐帥哥\n",
      "我的年齡是:34歲\n",
      "我的分數是344\n"
     ]
    }
   ],
   "source": [
    "s2:Student = Student(name='徐帥哥',age=34,score=344)\n",
    "s2.echo()"
   ]
  },
  {
   "cell_type": "code",
   "execution_count": 19,
   "metadata": {},
   "outputs": [
    {
     "name": "stdout",
     "output_type": "stream",
     "text": [
      "我的名字是徐西瓜\n",
      "我的年齡是:24歲\n",
      "我的分數是250\n",
      "============\n",
      "我的名字是徐帥哥\n",
      "我的年齡是:34歲\n",
      "我的分數是344\n",
      "============\n"
     ]
    }
   ],
   "source": [
    "students:list[Student] = [s1,s2]\n",
    "for student in students:\n",
    "    student.echo()\n",
    "    print('============')"
   ]
  }
 ],
 "metadata": {
  "kernelspec": {
   "display_name": "Python 3",
   "language": "python",
   "name": "python3"
  },
  "language_info": {
   "codemirror_mode": {
    "name": "ipython",
    "version": 3
   },
   "file_extension": ".py",
   "mimetype": "text/x-python",
   "name": "python",
   "nbconvert_exporter": "python",
   "pygments_lexer": "ipython3",
   "version": "3.10.15"
  }
 },
 "nbformat": 4,
 "nbformat_minor": 2
}
