{
 "cells": [
  {
   "cell_type": "markdown",
   "metadata": {},
   "source": [
    "## Styler視覺化(格式化)\n",
    "- 改變顯示的外觀，這不會改變原始數據，只是改變顯示效果\n",
    "---\n",
    "## .style.format()"
   ]
  },
  {
   "cell_type": "code",
   "execution_count": null,
   "metadata": {},
   "outputs": [],
   "source": [
    "import pandas as pd\n",
    "\n",
    "df1 = pd.read_csv('new各鄉鎮市區人口密度.csv')\n",
    "display(df1)   #它比 print() 更適合顯示 DataFrame \n",
    "def format1(value:int):\n",
    "    return f\"第{value}號\"\n",
    "df1.style\\\n",
    ".format(precision=2,thousands=',',decimal='.')\\\n",
    ".format_index(format1)"
   ]
  },
  {
   "cell_type": "markdown",
   "metadata": {},
   "source": [
    "## lambda 匿名的function 適用於簡單只需要一行的函式\n",
    "- lambda 參數 : 返回值"
   ]
  },
  {
   "cell_type": "code",
   "execution_count": null,
   "metadata": {},
   "outputs": [],
   "source": [
    "df1 = pd.read_csv('new各鄉鎮市區人口密度.csv')\n",
    "display(df1)\n",
    "df1.style\\\n",
    ".format(precision=2,thousands=',',decimal='.')\\\n",
    ".format_index(lambda value:f'第{value}號')     "
   ]
  },
  {
   "cell_type": "code",
   "execution_count": null,
   "metadata": {},
   "outputs": [
    {
     "data": {
      "text/html": [
       "<div>\n",
       "<style scoped>\n",
       "    .dataframe tbody tr th:only-of-type {\n",
       "        vertical-align: middle;\n",
       "    }\n",
       "\n",
       "    .dataframe tbody tr th {\n",
       "        vertical-align: top;\n",
       "    }\n",
       "\n",
       "    .dataframe thead th {\n",
       "        text-align: right;\n",
       "    }\n",
       "</style>\n",
       "<table border=\"1\" class=\"dataframe\">\n",
       "  <thead>\n",
       "    <tr style=\"text-align: right;\">\n",
       "      <th></th>\n",
       "      <th>Tokyo</th>\n",
       "      <th>Taipei</th>\n",
       "    </tr>\n",
       "  </thead>\n",
       "  <tbody>\n",
       "    <tr>\n",
       "      <th>2021-01-01</th>\n",
       "      <td>2.720725</td>\n",
       "      <td>4.601528</td>\n",
       "    </tr>\n",
       "    <tr>\n",
       "      <th>2021-01-02</th>\n",
       "      <td>1.532423</td>\n",
       "      <td>0.104069</td>\n",
       "    </tr>\n",
       "    <tr>\n",
       "      <th>2021-01-03</th>\n",
       "      <td>0.268542</td>\n",
       "      <td>4.265225</td>\n",
       "    </tr>\n",
       "    <tr>\n",
       "      <th>2021-01-04</th>\n",
       "      <td>2.384637</td>\n",
       "      <td>2.883923</td>\n",
       "    </tr>\n",
       "    <tr>\n",
       "      <th>2021-01-05</th>\n",
       "      <td>0.670677</td>\n",
       "      <td>1.583503</td>\n",
       "    </tr>\n",
       "    <tr>\n",
       "      <th>2021-01-06</th>\n",
       "      <td>0.941805</td>\n",
       "      <td>3.301774</td>\n",
       "    </tr>\n",
       "    <tr>\n",
       "      <th>2021-01-07</th>\n",
       "      <td>1.635585</td>\n",
       "      <td>2.608316</td>\n",
       "    </tr>\n",
       "    <tr>\n",
       "      <th>2021-01-08</th>\n",
       "      <td>0.918600</td>\n",
       "      <td>2.573741</td>\n",
       "    </tr>\n",
       "    <tr>\n",
       "      <th>2021-01-09</th>\n",
       "      <td>0.743328</td>\n",
       "      <td>4.334327</td>\n",
       "    </tr>\n",
       "    <tr>\n",
       "      <th>2021-01-10</th>\n",
       "      <td>2.236923</td>\n",
       "      <td>3.522427</td>\n",
       "    </tr>\n",
       "  </tbody>\n",
       "</table>\n",
       "</div>"
      ],
      "text/plain": [
       "               Tokyo    Taipei\n",
       "2021-01-01  2.720725  4.601528\n",
       "2021-01-02  1.532423  0.104069\n",
       "2021-01-03  0.268542  4.265225\n",
       "2021-01-04  2.384637  2.883923\n",
       "2021-01-05  0.670677  1.583503\n",
       "2021-01-06  0.941805  3.301774\n",
       "2021-01-07  1.635585  2.608316\n",
       "2021-01-08  0.918600  2.573741\n",
       "2021-01-09  0.743328  4.334327\n",
       "2021-01-10  2.236923  3.522427"
      ]
     },
     "execution_count": 7,
     "metadata": {},
     "output_type": "execute_result"
    }
   ],
   "source": [
    "import numpy as np\n",
    "\n",
    "weather_df = pd.DataFrame(np.random.rand(10,2)*5,\n",
    "                        index=pd.date_range(start=\"2021-01-01\", periods=10),\n",
    "                        columns=[\"Tokyo\", \"Taipei\"])\n",
    "weather_df"
   ]
  },
  {
   "cell_type": "markdown",
   "metadata": {},
   "source": [
    "## .set_caption() 主題名稱\n",
    "## .format_index() index格式化  搜尋np strftime\n",
    "## .background_gradient() 背景顏色 搜尋 matplitlib Colormap reference "
   ]
  },
  {
   "cell_type": "code",
   "execution_count": 8,
   "metadata": {},
   "outputs": [
    {
     "data": {
      "text/html": [
       "<style type=\"text/css\">\n",
       "#T_2a0fc_row0_col0 {\n",
       "  background-color: #94d5bc;\n",
       "  color: #000000;\n",
       "}\n",
       "#T_2a0fc_row0_col1 {\n",
       "  background-color: #085fa3;\n",
       "  color: #f1f1f1;\n",
       "}\n",
       "#T_2a0fc_row1_col0 {\n",
       "  background-color: #dff2da;\n",
       "  color: #000000;\n",
       "}\n",
       "#T_2a0fc_row1_col1, #T_2a0fc_row2_col0, #T_2a0fc_row4_col0, #T_2a0fc_row5_col0, #T_2a0fc_row7_col0, #T_2a0fc_row8_col0 {\n",
       "  background-color: #f7fcf0;\n",
       "  color: #000000;\n",
       "}\n",
       "#T_2a0fc_row2_col1 {\n",
       "  background-color: #1979b5;\n",
       "  color: #f1f1f1;\n",
       "}\n",
       "#T_2a0fc_row3_col0 {\n",
       "  background-color: #b1e0b9;\n",
       "  color: #000000;\n",
       "}\n",
       "#T_2a0fc_row3_col1 {\n",
       "  background-color: #86d0c0;\n",
       "  color: #000000;\n",
       "}\n",
       "#T_2a0fc_row4_col1 {\n",
       "  background-color: #ddf2d7;\n",
       "  color: #000000;\n",
       "}\n",
       "#T_2a0fc_row5_col1 {\n",
       "  background-color: #5fbdcd;\n",
       "  color: #000000;\n",
       "}\n",
       "#T_2a0fc_row6_col0 {\n",
       "  background-color: #dbf1d5;\n",
       "  color: #000000;\n",
       "}\n",
       "#T_2a0fc_row6_col1 {\n",
       "  background-color: #9fdab8;\n",
       "  color: #000000;\n",
       "}\n",
       "#T_2a0fc_row7_col1 {\n",
       "  background-color: #a2dbb7;\n",
       "  color: #000000;\n",
       "}\n",
       "#T_2a0fc_row8_col1 {\n",
       "  background-color: #1373b2;\n",
       "  color: #f1f1f1;\n",
       "}\n",
       "#T_2a0fc_row9_col0 {\n",
       "  background-color: #bbe4bd;\n",
       "  color: #000000;\n",
       "}\n",
       "#T_2a0fc_row9_col1 {\n",
       "  background-color: #4cb1d2;\n",
       "  color: #f1f1f1;\n",
       "}\n",
       "</style>\n",
       "<table id=\"T_2a0fc\">\n",
       "  <caption>Weather Conditions</caption>\n",
       "  <thead>\n",
       "    <tr>\n",
       "      <th class=\"blank level0\" >&nbsp;</th>\n",
       "      <th id=\"T_2a0fc_level0_col0\" class=\"col_heading level0 col0\" >Tokyo</th>\n",
       "      <th id=\"T_2a0fc_level0_col1\" class=\"col_heading level0 col1\" >Taipei</th>\n",
       "    </tr>\n",
       "  </thead>\n",
       "  <tbody>\n",
       "    <tr>\n",
       "      <th id=\"T_2a0fc_level0_row0\" class=\"row_heading level0 row0\" >Fri</th>\n",
       "      <td id=\"T_2a0fc_row0_col0\" class=\"data row0 col0\" >2.720725</td>\n",
       "      <td id=\"T_2a0fc_row0_col1\" class=\"data row0 col1\" >4.601528</td>\n",
       "    </tr>\n",
       "    <tr>\n",
       "      <th id=\"T_2a0fc_level0_row1\" class=\"row_heading level0 row1\" >Sat</th>\n",
       "      <td id=\"T_2a0fc_row1_col0\" class=\"data row1 col0\" >1.532423</td>\n",
       "      <td id=\"T_2a0fc_row1_col1\" class=\"data row1 col1\" >0.104069</td>\n",
       "    </tr>\n",
       "    <tr>\n",
       "      <th id=\"T_2a0fc_level0_row2\" class=\"row_heading level0 row2\" >Sun</th>\n",
       "      <td id=\"T_2a0fc_row2_col0\" class=\"data row2 col0\" >0.268542</td>\n",
       "      <td id=\"T_2a0fc_row2_col1\" class=\"data row2 col1\" >4.265225</td>\n",
       "    </tr>\n",
       "    <tr>\n",
       "      <th id=\"T_2a0fc_level0_row3\" class=\"row_heading level0 row3\" >Mon</th>\n",
       "      <td id=\"T_2a0fc_row3_col0\" class=\"data row3 col0\" >2.384637</td>\n",
       "      <td id=\"T_2a0fc_row3_col1\" class=\"data row3 col1\" >2.883923</td>\n",
       "    </tr>\n",
       "    <tr>\n",
       "      <th id=\"T_2a0fc_level0_row4\" class=\"row_heading level0 row4\" >Tue</th>\n",
       "      <td id=\"T_2a0fc_row4_col0\" class=\"data row4 col0\" >0.670677</td>\n",
       "      <td id=\"T_2a0fc_row4_col1\" class=\"data row4 col1\" >1.583503</td>\n",
       "    </tr>\n",
       "    <tr>\n",
       "      <th id=\"T_2a0fc_level0_row5\" class=\"row_heading level0 row5\" >Wed</th>\n",
       "      <td id=\"T_2a0fc_row5_col0\" class=\"data row5 col0\" >0.941805</td>\n",
       "      <td id=\"T_2a0fc_row5_col1\" class=\"data row5 col1\" >3.301774</td>\n",
       "    </tr>\n",
       "    <tr>\n",
       "      <th id=\"T_2a0fc_level0_row6\" class=\"row_heading level0 row6\" >Thu</th>\n",
       "      <td id=\"T_2a0fc_row6_col0\" class=\"data row6 col0\" >1.635585</td>\n",
       "      <td id=\"T_2a0fc_row6_col1\" class=\"data row6 col1\" >2.608316</td>\n",
       "    </tr>\n",
       "    <tr>\n",
       "      <th id=\"T_2a0fc_level0_row7\" class=\"row_heading level0 row7\" >Fri</th>\n",
       "      <td id=\"T_2a0fc_row7_col0\" class=\"data row7 col0\" >0.918600</td>\n",
       "      <td id=\"T_2a0fc_row7_col1\" class=\"data row7 col1\" >2.573741</td>\n",
       "    </tr>\n",
       "    <tr>\n",
       "      <th id=\"T_2a0fc_level0_row8\" class=\"row_heading level0 row8\" >Sat</th>\n",
       "      <td id=\"T_2a0fc_row8_col0\" class=\"data row8 col0\" >0.743328</td>\n",
       "      <td id=\"T_2a0fc_row8_col1\" class=\"data row8 col1\" >4.334327</td>\n",
       "    </tr>\n",
       "    <tr>\n",
       "      <th id=\"T_2a0fc_level0_row9\" class=\"row_heading level0 row9\" >Sun</th>\n",
       "      <td id=\"T_2a0fc_row9_col0\" class=\"data row9 col0\" >2.236923</td>\n",
       "      <td id=\"T_2a0fc_row9_col1\" class=\"data row9 col1\" >3.522427</td>\n",
       "    </tr>\n",
       "  </tbody>\n",
       "</table>\n"
      ],
      "text/plain": [
       "<pandas.io.formats.style.Styler at 0x7fc010dd3280>"
      ]
     },
     "execution_count": 8,
     "metadata": {},
     "output_type": "execute_result"
    }
   ],
   "source": [
    "weather_df.style\\\n",
    ".set_caption('Weather Conditions')\\\n",
    ".format_index(lambda v:v.strftime(\"%a\"))\\\n",
    ".background_gradient(vmin=1,vmax=5,cmap='GnBu')"
   ]
  },
  {
   "cell_type": "code",
   "execution_count": 9,
   "metadata": {},
   "outputs": [
    {
     "data": {
      "text/plain": [
       "DatetimeIndex(['2021-01-01', '2021-01-02', '2021-01-03', '2021-01-04',\n",
       "               '2021-01-05', '2021-01-06', '2021-01-07', '2021-01-08',\n",
       "               '2021-01-09', '2021-01-10'],\n",
       "              dtype='datetime64[ns]', freq='D')"
      ]
     },
     "execution_count": 9,
     "metadata": {},
     "output_type": "execute_result"
    }
   ],
   "source": [
    "weather_df.index"
   ]
  }
 ],
 "metadata": {
  "kernelspec": {
   "display_name": "Python 3",
   "language": "python",
   "name": "python3"
  },
  "language_info": {
   "codemirror_mode": {
    "name": "ipython",
    "version": 3
   },
   "file_extension": ".py",
   "mimetype": "text/x-python",
   "name": "python",
   "nbconvert_exporter": "python",
   "pygments_lexer": "ipython3",
   "version": "3.10.15"
  }
 },
 "nbformat": 4,
 "nbformat_minor": 2
}
