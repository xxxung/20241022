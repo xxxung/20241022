{
 "cells": [
  {
   "cell_type": "markdown",
   "metadata": {},
   "source": [
    "## os\n",
    "---\n",
    "# 1. os.getcwd()->str 取得現在目錄\n",
    "# 2. os.path.join(Strpath,字串)->str 合併成絕對路徑\n",
    "# 3. os.listdir(指定目錄) 列list出指定目錄中的所有'檔案'和'資料夾'"
   ]
  },
  {
   "cell_type": "code",
   "execution_count": 14,
   "metadata": {},
   "outputs": [
    {
     "data": {
      "text/plain": [
       "['/workspaces/20241022/lesson16/stations/每日各站進出站人數2023.csv',\n",
       " '/workspaces/20241022/lesson16/stations/每日各站進出站人數2021.csv',\n",
       " '/workspaces/20241022/lesson16/stations/每日各站進出站人數2020.csv',\n",
       " '/workspaces/20241022/lesson16/stations/每日各站進出站人數20190423-20191231.csv',\n",
       " '/workspaces/20241022/lesson16/stations/每日各站進出站人數2022.csv']"
      ]
     },
     "execution_count": 14,
     "metadata": {},
     "output_type": "execute_result"
    }
   ],
   "source": [
    "import os\n",
    "\n",
    "current_folder = os.getcwd()    #/workspaces/20241022/lesson16/stations/\n",
    "stations_folder = os.path.join(current_folder,'stations')    #/workspaces/20241022/lesson16/stations/stations\n",
    "csv_abs_files = []\n",
    "for filename in os.listdir(stations_folder):\n",
    "    if '每日各站' in filename:\n",
    "        csv_abs_files.append(os.path.join(stations_folder,filename))    #/workspaces/20241022/lesson16/stations/stations/每日各站進出站人數2023.csv\n",
    "\n",
    "csv_abs_files"
   ]
  },
  {
   "cell_type": "code",
   "execution_count": 19,
   "metadata": {},
   "outputs": [
    {
     "data": {
      "text/plain": [
       "['每日各站進出站人數2023.csv',\n",
       " '台鐵車站資訊.csv',\n",
       " '每日各站進出站人數2021.csv',\n",
       " '每日各站進出站人數2020.csv',\n",
       " '每日各站進出站人數20190423-20191231.csv',\n",
       " 'schema.csv',\n",
       " 'manifest.csv',\n",
       " '每日各站進出站人數2022.csv']"
      ]
     },
     "execution_count": 19,
     "metadata": {},
     "output_type": "execute_result"
    }
   ],
   "source": [
    "os.listdir(stations_folder)"
   ]
  },
  {
   "cell_type": "code",
   "execution_count": null,
   "metadata": {},
   "outputs": [],
   "source": [
    "import pandas as pd \n",
    "\n",
    "station_df = pd.read_csv(csv_abs_files[0])\n",
    "station_df"
   ]
  },
  {
   "cell_type": "code",
   "execution_count": 16,
   "metadata": {},
   "outputs": [],
   "source": [
    "info_path = os.path.join(stations_folder,'台鐵車站資訊.csv')\n",
    "info_df = pd.read_csv(info_path)"
   ]
  },
  {
   "cell_type": "markdown",
   "metadata": {},
   "source": [
    "## merge()\n",
    "- 合併兩個資料框（DataFrame）的函數"
   ]
  },
  {
   "cell_type": "code",
   "execution_count": 17,
   "metadata": {},
   "outputs": [],
   "source": [
    "merge_df = pd.merge(station_df, info_df, how='left', left_on='staCode', right_on='stationCode')"
   ]
  }
 ],
 "metadata": {
  "kernelspec": {
   "display_name": "Python 3",
   "language": "python",
   "name": "python3"
  },
  "language_info": {
   "codemirror_mode": {
    "name": "ipython",
    "version": 3
   },
   "file_extension": ".py",
   "mimetype": "text/x-python",
   "name": "python",
   "nbconvert_exporter": "python",
   "pygments_lexer": "ipython3",
   "version": "3.10.15"
  }
 },
 "nbformat": 4,
 "nbformat_minor": 2
}
