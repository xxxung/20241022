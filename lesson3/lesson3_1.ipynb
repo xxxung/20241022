{
 "cells": [
  {
   "cell_type": "code",
   "execution_count": 1,
   "metadata": {},
   "outputs": [
    {
     "name": "stdout",
     "output_type": "stream",
     "text": [
      "獎金:1000\n"
     ]
    }
   ],
   "source": [
    "chinese = int(input('請輸入國文分數:'))\n",
    "math = int(input('請輸入數學分數:'))\n",
    "#巢狀判斷\n",
    "if chinese ==100:\n",
    "    if math ==100:\n",
    "        bonus=1000\n",
    "    else :\n",
    "        bonus=500\n",
    "elif math ==100:\n",
    "    bonus=500\n",
    "else:\n",
    "    bonus=0\n",
    "\n",
    "print(f'獎金:{bonus}')"
   ]
  },
  {
   "cell_type": "markdown",
   "metadata": {},
   "source": [
    "## not\n"
   ]
  },
  {
   "cell_type": "code",
   "execution_count": 6,
   "metadata": {},
   "outputs": [
    {
     "name": "stdout",
     "output_type": "stream",
     "text": [
      "可以考駕照\n"
     ]
    }
   ],
   "source": [
    "age = 19\n",
    "#not功能，True和False程式區塊對調\n",
    "if not age >= 18:\n",
    "    print(\"不可以考駕照\")\n",
    "else:\n",
    "    print(\"可以考駕照\")\n"
   ]
  },
  {
   "cell_type": "markdown",
   "metadata": {},
   "source": [
    "## and & or\n"
   ]
  },
  {
   "cell_type": "code",
   "execution_count": 7,
   "metadata": {},
   "outputs": [
    {
     "name": "stdout",
     "output_type": "stream",
     "text": [
      "獎金:1000\n"
     ]
    }
   ],
   "source": [
    "chinese = int(input('請輸入國文分數:'))\n",
    "math = int(input('請輸入數學分數:'))\n",
    "#邏輯判斷\n",
    "if chinese ==100 and math ==100:\n",
    "    bonus=1000\n",
    "elif chinese==100 or math==100:\n",
    "    bonus=500\n",
    "else:\n",
    "    bonus=0\n",
    "\n",
    "print(f\"獎金:{bonus}\")"
   ]
  },
  {
   "cell_type": "markdown",
   "metadata": {},
   "source": [
    "### 以下兩種寫法一樣"
   ]
  },
  {
   "cell_type": "code",
   "execution_count": 9,
   "metadata": {},
   "outputs": [
    {
     "name": "stdout",
     "output_type": "stream",
     "text": [
      "正常\n"
     ]
    }
   ],
   "source": [
    "press =int(input(\"請輸入血壓值:\"))\n",
    "if press >=90 and press<=120:\n",
    "    print(\"正常\")\n",
    "else:\n",
    "    print(\"不正常\")"
   ]
  },
  {
   "cell_type": "code",
   "execution_count": null,
   "metadata": {},
   "outputs": [
    {
     "name": "stdout",
     "output_type": "stream",
     "text": [
      "正常\n"
     ]
    }
   ],
   "source": [
    "press =int(input(\"請輸入血壓值:\"))\n",
    "if 90<= press <=120:\n",
    "    print(\"正常\")\n",
    "else:\n",
    "    print(\"不正常\")"
   ]
  }
 ],
 "metadata": {
  "kernelspec": {
   "display_name": "Python 3",
   "language": "python",
   "name": "python3"
  },
  "language_info": {
   "codemirror_mode": {
    "name": "ipython",
    "version": 3
   },
   "file_extension": ".py",
   "mimetype": "text/x-python",
   "name": "python",
   "nbconvert_exporter": "python",
   "pygments_lexer": "ipython3",
   "version": "3.10.15"
  }
 },
 "nbformat": 4,
 "nbformat_minor": 2
}
