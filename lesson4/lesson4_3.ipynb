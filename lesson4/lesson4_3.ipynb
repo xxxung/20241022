{
 "cells": [
  {
   "cell_type": "markdown",
   "metadata": {},
   "source": [
    "## 猜數字遊戲"
   ]
  },
  {
   "cell_type": "code",
   "execution_count": 1,
   "metadata": {},
   "outputs": [
    {
     "name": "stdout",
     "output_type": "stream",
     "text": [
      "=========猜數字遊戲=========\n",
      "再大一點\n",
      "您已經猜了1次\n",
      "===========\n",
      "再大一點\n",
      "您已經猜了2次\n",
      "===========\n",
      "再大一點\n",
      "您已經猜了3次\n",
      "===========\n",
      "再小一點\n",
      "您已經猜了4次\n",
      "===========\n",
      "再小一點\n",
      "您已經猜了5次\n",
      "===========\n",
      "再大一點\n",
      "您已經猜了6次\n",
      "===========\n",
      "猜對了，答案是:69\n",
      "您猜了7次\n",
      "===========\n",
      "遊戲結束\n"
     ]
    }
   ],
   "source": [
    "#猜數字遊戲\n",
    "import random\n",
    "\n",
    "#減少邏輯思考\n",
    "def platGame()->None:\n",
    "    min = 1\n",
    "    max = 100\n",
    "    count = 0\n",
    "    target = random.randint(min,max)\n",
    "    print('=========猜數字遊戲=========')\n",
    "    while True:\n",
    "        count +=1\n",
    "        try:\n",
    "            keyin=int(input(f\"猜數字，範圍{min}~{max}:\"))\n",
    "        except Exception:\n",
    "            print(\"請重新輸入\")\n",
    "            print(\"========\")\n",
    "            continue\n",
    "        if keyin >= min and keyin <=max:\n",
    "            if keyin == target:\n",
    "                print(f\"猜對了，答案是:{target}\")\n",
    "                print(f\"您猜了{count}次\")\n",
    "                print(\"===========\")\n",
    "                break\n",
    "            elif keyin > target:\n",
    "                print(\"再小一點\")\n",
    "                max = keyin - 1\n",
    "            elif keyin < target:\n",
    "                print(\"再大一點\")\n",
    "                min = keyin + 1\n",
    "            print(f\"您已經猜了{count}次\")\n",
    "            print('===========')\n",
    "        else :\n",
    "            print(\"超出範圍，請重新輸入\")\n",
    "            print(\"===========\")\n",
    "\n",
    "    # print(\"應用程式結束\")\n",
    "\n",
    "while True:\n",
    "    platGame()\n",
    "    answer=input(\"請問還要繼續嗎?(y/n)\")\n",
    "    if answer.upper() == 'N':\n",
    "        break\n",
    "print(\"遊戲結束\")\n"
   ]
  },
  {
   "cell_type": "markdown",
   "metadata": {},
   "source": [
    "## BMI資料"
   ]
  },
  {
   "cell_type": "code",
   "execution_count": 1,
   "metadata": {},
   "outputs": [
    {
     "name": "stdout",
     "output_type": "stream",
     "text": [
      "BMI計算機\n",
      "姓名:徐熙鴻\n",
      "請輸入身高(cm):165\n",
      "請輸入體重(kg):58\n",
      "徐熙鴻的BMI值:21.30\n",
      "徐熙鴻的體重:正常範圍\n",
      "==============\n",
      "BMI計算機\n",
      "姓名:涂宏影\n",
      "請輸入身高(cm):172\n",
      "請輸入體重(kg):65\n",
      "涂宏影的BMI值:21.97\n",
      "涂宏影的體重:正常範圍\n",
      "==============\n",
      "BMI計算機\n",
      "輸入格式錯誤,請重新輸入\n",
      "==============\n",
      "BMI計算機\n",
      "姓名:酷哥\n",
      "請輸入身高(cm):145\n",
      "請輸入體重(kg):54\n",
      "酷哥的BMI值:25.68\n",
      "酷哥的體重:過重\n",
      "==========\n",
      "應用程式結束\n"
     ]
    }
   ],
   "source": [
    "while True:\n",
    "    try:\n",
    "        print(\"BMI計算機\")\n",
    "        name=input(\"請輸入姓名:\")\n",
    "        height = eval(input(\"請輸入身高(cm):\"))\n",
    "        weight = eval(input(\"請輸入體重(kg):\"))\n",
    "        BMI = weight / ((height/100)**2)\n",
    "        print(f\"姓名:{name}\")\n",
    "        print(f\"請輸入身高(cm):{height}\")\n",
    "        print(f\"請輸入體重(kg):{weight}\")\n",
    "        print(f\"{name}的BMI值:{BMI:.2f}\")\n",
    "        if BMI >=35:\n",
    "            print(f\"{name}的體重:重度肥胖\")\n",
    "        elif BMI >= 30:\n",
    "            print(f\"{name}的體重:中度肥胖\")\n",
    "        elif BMI >= 27:\n",
    "            print(f\"{name}的體重:輕度肥胖\")\n",
    "        elif BMI >= 24:\n",
    "            print(f\"{name}的體重:過重\")\n",
    "        elif BMI >= 18.5:\n",
    "            print(f\"{name}的體重:正常範圍\")\n",
    "        else:\n",
    "            print(f\"{name}的體重:體重過輕\")\n",
    "        answer=input(\"您還要繼續嗎?(y繼續,n結束)\")\n",
    "        if answer.upper() == 'N':\n",
    "            break\n",
    "        print(\"==============\")\n",
    "    except Exception :\n",
    "        print(\"輸入格式錯誤,請重新輸入\")\n",
    "        print(\"==============\")\n",
    "print(\"==========\")        \n",
    "print(\"應用程式結束\")"
   ]
  },
  {
   "cell_type": "markdown",
   "metadata": {},
   "source": [
    "## 沒有傳出值的function"
   ]
  },
  {
   "cell_type": "code",
   "execution_count": null,
   "metadata": {},
   "outputs": [
    {
     "name": "stdout",
     "output_type": "stream",
     "text": [
      "BMI計算機\n",
      "姓名:徐熙鴻\n",
      "請輸入身高(cm):177\n",
      "請輸入體重(kg):58\n",
      "徐熙鴻的BMI值:18.51\n",
      "徐熙鴻的體重:正常範圍\n",
      "==========\n",
      "應用程式結束\n"
     ]
    }
   ],
   "source": [
    "def get_status(name:str,BMI:int)->None:  #沒有傳出值的function\n",
    "        if BMI >=35:\n",
    "            print(f\"{name}的體重:重度肥胖\")\n",
    "        elif BMI >= 30:\n",
    "            print(f\"{name}的體重:中度肥胖\")\n",
    "        elif BMI >= 27:\n",
    "            print(f\"{name}的體重:輕度肥胖\")\n",
    "        elif BMI >= 24:\n",
    "            print(f\"{name}的體重:過重\")\n",
    "        elif BMI >= 18.5:\n",
    "            print(f\"{name}的體重:正常範圍\")\n",
    "        else:\n",
    "            print(f\"{name}的體重:體重過輕\")\n",
    "\n",
    "while True:\n",
    "    try:\n",
    "        print(\"BMI計算機\")\n",
    "        name=input(\"請輸入姓名:\")\n",
    "        height = eval(input(\"請輸入身高(cm):\"))\n",
    "        weight = eval(input(\"請輸入體重(kg):\"))\n",
    "        BMI = weight / ((height/100)**2)\n",
    "        print(f\"姓名:{name}\")\n",
    "        print(f\"請輸入身高(cm):{height}\")\n",
    "        print(f\"請輸入體重(kg):{weight}\")\n",
    "        print(f\"{name}的BMI值:{BMI:.2f}\")\n",
    "\n",
    "        get_status(name,BMI)\n",
    "\n",
    "        answer=input(\"您還要繼續嗎?(y繼續,n結束)\")\n",
    "        if answer.upper() == 'N':\n",
    "            break\n",
    "        print(\"==============\")\n",
    "    except Exception :\n",
    "        print(\"輸入格式錯誤,請重新輸入\")\n",
    "        print(\"==============\")\n",
    "print(\"==========\")        \n",
    "print(\"應用程式結束\")"
   ]
  },
  {
   "cell_type": "markdown",
   "metadata": {},
   "source": [
    "## 有傳出值的function"
   ]
  },
  {
   "cell_type": "code",
   "execution_count": 1,
   "metadata": {},
   "outputs": [
    {
     "name": "stdout",
     "output_type": "stream",
     "text": [
      "BMI計算機\n",
      "姓名:徐熙鴻\n",
      "請輸入身高(cm):164\n",
      "請輸入體重(kg):57\n",
      "徐熙鴻的BMI值:21.19\n",
      "徐熙鴻的體重:正常範圍\n",
      "==========\n",
      "應用程式結束\n"
     ]
    }
   ],
   "source": [
    "def get_status(BMI:int)->str:  #有傳出值的function\n",
    "        if BMI >=35:\n",
    "            status = \"重度肥胖\"\n",
    "        elif BMI >= 30:\n",
    "            status = \"中度肥胖\"\n",
    "        elif BMI >= 27:\n",
    "            status = \"輕度肥胖\"\n",
    "        elif BMI >= 24:\n",
    "            status = \"過重\"\n",
    "        elif BMI >= 18.5:\n",
    "            status = \"正常範圍\"\n",
    "        else:\n",
    "            status = \"體重過輕\"\n",
    "\n",
    "        return status\n",
    "\n",
    "while True:\n",
    "    try:\n",
    "        print(\"BMI計算機\")\n",
    "        name=input(\"請輸入姓名:\")\n",
    "        height = eval(input(\"請輸入身高(cm):\"))\n",
    "        weight = eval(input(\"請輸入體重(kg):\"))\n",
    "        BMI = weight / ((height/100)**2)\n",
    "        print(f\"姓名:{name}\")\n",
    "        print(f\"請輸入身高(cm):{height}\")\n",
    "        print(f\"請輸入體重(kg):{weight}\")\n",
    "        print(f\"{name}的BMI值:{BMI:.2f}\")\n",
    "\n",
    "        status = get_status(BMI)\n",
    "        print(f\"{name}的體重:{status}\")\n",
    "\n",
    "        answer=input(\"您還要繼續嗎?(y繼續,n結束)\")\n",
    "        if answer.upper() == 'N':\n",
    "            break\n",
    "        print(\"==============\")\n",
    "    except Exception :\n",
    "        print(\"輸入格式錯誤,請重新輸入\")\n",
    "        print(\"==============\")\n",
    "print(\"==========\")        \n",
    "print(\"應用程式結束\")"
   ]
  }
 ],
 "metadata": {
  "kernelspec": {
   "display_name": "Python 3",
   "language": "python",
   "name": "python3"
  },
  "language_info": {
   "codemirror_mode": {
    "name": "ipython",
    "version": 3
   },
   "file_extension": ".py",
   "mimetype": "text/x-python",
   "name": "python",
   "nbconvert_exporter": "python",
   "pygments_lexer": "ipython3",
   "version": "3.10.15"
  }
 },
 "nbformat": 4,
 "nbformat_minor": 2
}
