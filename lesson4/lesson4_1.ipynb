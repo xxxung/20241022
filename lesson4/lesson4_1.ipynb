{
 "cells": [
  {
   "cell_type": "markdown",
   "metadata": {},
   "source": [
    "## break \n",
    "- 遇到break直接跳出迴圈"
   ]
  },
  {
   "cell_type": "code",
   "execution_count": null,
   "metadata": {},
   "outputs": [
    {
     "name": "stdout",
     "output_type": "stream",
     "text": [
      "恭喜!你已經存夠錢了，存了4個月的存款為:86000元\n"
     ]
    }
   ],
   "source": [
    "#小明想要存錢買一輛機車，機車每輛30000元，他將每月存的錢輸入，當存款足夠乃機車時，就顯示訊息告知\n",
    "deposit = 0   \n",
    "month = 0\n",
    "\n",
    "while (True):   #while True 這種寫法比較靈活，能隨時跳出迴圈\n",
    "    month +=1\n",
    "    money=int(input(f\"請輸入第{month}月份的存款:\"))\n",
    "    deposit += money   \n",
    "    if deposit > 30000:\n",
    "        break  \n",
    "print(f\"恭喜!你已經存夠錢了，存了{month}個月的存款為:{deposit}元\")"
   ]
  },
  {
   "cell_type": "markdown",
   "metadata": {},
   "source": [
    "### 字串實體方法\n",
    "## upper()\n",
    "## capitlixe()"
   ]
  },
  {
   "cell_type": "code",
   "execution_count": 9,
   "metadata": {},
   "outputs": [
    {
     "name": "stdout",
     "output_type": "stream",
     "text": [
      "Erro\n",
      "應用程式結束\n"
     ]
    }
   ],
   "source": [
    "#請輸入小寫英文字，輸出一個字大寫的英文字，如果按q英文字，將離開應用程式\n",
    "\n",
    "while True:\n",
    "    stuff=input(\"請輸入小寫英文字[按q會離開]:\")\n",
    "    if stuff.upper() == 'Q':      #upper() 直接轉成大寫\n",
    "        break\n",
    "    print(stuff.capitalize())   #capitlize() 小寫轉大寫的方法\n",
    "print('應用程式結束')\n"
   ]
  },
  {
   "cell_type": "markdown",
   "metadata": {},
   "source": [
    "## continue\n",
    "- 遇到continue直接執行下一輪迴圈"
   ]
  },
  {
   "cell_type": "code",
   "execution_count": 14,
   "metadata": {},
   "outputs": [
    {
     "name": "stdout",
     "output_type": "stream",
     "text": [
      "9\n",
      "9\n",
      "25\n",
      "請重新輸入\n",
      "請重新輸入\n",
      "請重新輸入\n",
      "應用程式結束\n"
     ]
    }
   ],
   "source": [
    "'''\n",
    "docstring\n",
    "顯示:\n",
    "請輸入整數，要求重新輸入\n",
    "奇數輸出平方\n",
    "偶數不做任何動作\n",
    "'q'要離開\n",
    "'''\n",
    "\n",
    "while True:\n",
    "    value = input(\"請輸入一個整數，輸入[q]離開:\")\n",
    "    if value.upper() == 'Q':\n",
    "        break\n",
    "    try:\n",
    "        value_int= int(value)       #將樹入的字串轉成整數int\n",
    "    except:\n",
    "        print('請重新輸入')\n",
    "        continue\n",
    "    if not (value_int % 2) == 0:    #not 的應用\n",
    "        print(value_int ** 2)\n",
    "print(\"應用程式結束\")"
   ]
  },
  {
   "cell_type": "markdown",
   "metadata": {},
   "source": [
    "### 會數學計算\n",
    "### 流程控制\n",
    "### 會建立亂數\n",
    "### 猜數字遊戲"
   ]
  },
  {
   "cell_type": "code",
   "execution_count": null,
   "metadata": {},
   "outputs": [
    {
     "data": {
      "text/plain": [
       "10"
      ]
     },
     "execution_count": 48,
     "metadata": {},
     "output_type": "execute_result"
    }
   ],
   "source": [
    "#建立亂數\n",
    "import random\n",
    "random.randint(1,10) #1 ~ 10 (包含) randit(start,stop)"
   ]
  },
  {
   "cell_type": "code",
   "execution_count": null,
   "metadata": {},
   "outputs": [
    {
     "name": "stdout",
     "output_type": "stream",
     "text": [
      "=========猜數字遊戲=========\n",
      "再大一點\n",
      "您已經猜了1次\n",
      "===========\n",
      "超出範圍，請重新輸入\n",
      "再大一點\n",
      "您已經猜了3次\n",
      "===========\n",
      "再小一點\n",
      "您已經猜了4次\n",
      "===========\n",
      "再小一點\n",
      "您已經猜了5次\n",
      "===========\n",
      "再小一點\n",
      "您已經猜了6次\n",
      "===========\n",
      "再大一點\n",
      "您已經猜了7次\n",
      "===========\n",
      "超出範圍，請重新輸入\n",
      "再小一點\n",
      "您已經猜了9次\n",
      "===========\n",
      "再大一點\n",
      "您已經猜了10次\n",
      "===========\n",
      "再小一點\n",
      "您已經猜了11次\n",
      "===========\n",
      "猜對了，答案是:51\n",
      "您猜了12次\n",
      "===========\n",
      "應用程式結束\n"
     ]
    }
   ],
   "source": [
    "#猜數字遊戲\n",
    "import random\n",
    "\n",
    "min = 1\n",
    "max = 100\n",
    "count = 0\n",
    "target = random.randint(min,max)\n",
    "print('=========猜數字遊戲=========')\n",
    "while True:\n",
    "    count +=1\n",
    "    try:\n",
    "        keyin=int(input(f\"猜數字，範圍{min}~{max}:\"))\n",
    "    except Exception:\n",
    "        print(\"請重新輸入\")\n",
    "        print(\"========\")\n",
    "        continue\n",
    "    if keyin >= min and keyin <=max:\n",
    "        if keyin == target:\n",
    "            print(f\"猜對了，答案是:{target}\")\n",
    "            print(f\"您猜了{count}次\")\n",
    "            print(\"===========\")\n",
    "            break\n",
    "        elif keyin > target:\n",
    "            print(\"再小一點\")\n",
    "            max = keyin - 1\n",
    "        elif keyin < target:\n",
    "            print(\"再大一點\")\n",
    "            min = keyin + 1\n",
    "        print(f\"您已經猜了{count}次\")\n",
    "        print('===========')\n",
    "    else :\n",
    "        print(\"超出範圍，請重新輸入\")\n",
    "        print(\"===========\")\n",
    "\n",
    "print(\"應用程式結束\")"
   ]
  }
 ],
 "metadata": {
  "kernelspec": {
   "display_name": "Python 3",
   "language": "python",
   "name": "python3"
  },
  "language_info": {
   "codemirror_mode": {
    "name": "ipython",
    "version": 3
   },
   "file_extension": ".py",
   "mimetype": "text/x-python",
   "name": "python",
   "nbconvert_exporter": "python",
   "pygments_lexer": "ipython3",
   "version": "3.10.15"
  }
 },
 "nbformat": 4,
 "nbformat_minor": 2
}
