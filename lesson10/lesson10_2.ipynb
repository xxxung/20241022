{
 "cells": [
  {
   "cell_type": "markdown",
   "metadata": {},
   "source": [
    "## 利用str的實體方法,subscript"
   ]
  },
  {
   "cell_type": "code",
   "execution_count": 6,
   "metadata": {},
   "outputs": [
    {
     "name": "stdout",
     "output_type": "stream",
     "text": [
      "您的手機號碼是:0912-444-666\n"
     ]
    }
   ],
   "source": [
    "def isPhoneNumber(text:str) -> bool:\n",
    "    if len(text) != 12:\n",
    "        return False\n",
    "    elif not text[:4].isdecimal():                   #isdecimal()查看是不是數值\n",
    "        return False\n",
    "    elif text[4] != '-':\n",
    "        return False\n",
    "    elif not text[5:8].isdecimal():\n",
    "        return False\n",
    "    elif text[8] != \"-\":\n",
    "        return False\n",
    "    elif not text[9:].isdecimal():\n",
    "        return False\n",
    "    else:\n",
    "        return True\n",
    "    \n",
    "\n",
    "phone_number = input(\"請輸入手機號碼xxxx-xxx-xxx:\")\n",
    "if isPhoneNumber(phone_number):\n",
    "    print(f\"您的手機號碼是:{phone_number}\")\n",
    "else:\n",
    "    print('手機號碼格式不正確!')"
   ]
  },
  {
   "cell_type": "markdown",
   "metadata": {},
   "source": [
    "## import re"
   ]
  },
  {
   "cell_type": "code",
   "execution_count": 7,
   "metadata": {},
   "outputs": [
    {
     "name": "stdout",
     "output_type": "stream",
     "text": [
      "您的手機號碼是:0911-222-444\n"
     ]
    }
   ],
   "source": [
    "#使用正規則表達式\n",
    "import re  #regular experisson\n",
    "from re import Pattern,Match\n",
    "\n",
    "def isPhoneNumber(text:str) -> bool:\n",
    "    phoneNumRegex:Pattern = re.compile(r'\\d\\d\\d\\d-\\d\\d\\d-\\d\\d\\d')   #\\d(0~9數值)要用原生字串r\n",
    "    result:Match = re.match(phoneNumRegex,text)\n",
    "    if result is None:\n",
    "        return False\n",
    "    else:\n",
    "        return True\n",
    "    \n",
    "\n",
    "phone_number = input(\"請輸入手機號碼xxxx-xxx-xxx:\")\n",
    "if isPhoneNumber(phone_number):\n",
    "    print(f\"您的手機號碼是:{phone_number}\")\n",
    "else:\n",
    "    print('手機號碼格式不正確!')"
   ]
  },
  {
   "cell_type": "code",
   "execution_count": 8,
   "metadata": {},
   "outputs": [
    {
     "name": "stdout",
     "output_type": "stream",
     "text": [
      "您的手機號碼是:0911-222-444\n"
     ]
    }
   ],
   "source": [
    "#使用正規則表達式\n",
    "import re  #regular experisson\n",
    "from re import Pattern,Match\n",
    "\n",
    "def isPhoneNumber(text:str) -> bool:\n",
    "    phoneNumRegex:Pattern = re.compile(r'\\d{4}-\\d{3}-\\d{3}')   \n",
    "    result:Match = re.match(phoneNumRegex,text)\n",
    "    if result is None:\n",
    "        return False\n",
    "    else:\n",
    "        return True\n",
    "    \n",
    "\n",
    "phone_number = input(\"請輸入手機號碼xxxx-xxx-xxx:\")\n",
    "if isPhoneNumber(phone_number):\n",
    "    print(f\"您的手機號碼是:{phone_number}\")\n",
    "else:\n",
    "    print('手機號碼格式不正確!')"
   ]
  },
  {
   "cell_type": "code",
   "execution_count": null,
   "metadata": {},
   "outputs": [
    {
     "name": "stdout",
     "output_type": "stream",
     "text": [
      "您的手機號碼是:0912_222_444\n"
     ]
    }
   ],
   "source": [
    "#使用正規則表達式\n",
    "import re\n",
    "from re import Pattern,Match\n",
    "\n",
    "def isPhoneNumber(text:str) -> bool:\n",
    "    phoneNumRegex:Pattern = re.compile(r'\\d{4}(-|_)\\d{3}(-|_)\\d{3}')  #-或_都可以match\n",
    "    result:Match = re.match(phoneNumRegex,text)\n",
    "    if result is None:\n",
    "        return False\n",
    "    else:\n",
    "        return True\n",
    "    \n",
    "\n",
    "phone_number = input(\"請輸入手機號碼xxxx-xxx-xxx:\")\n",
    "if isPhoneNumber(phone_number):\n",
    "    print(f\"您的手機號碼是:{phone_number}\")\n",
    "else:\n",
    "    print('手機號碼格式不正確!')"
   ]
  },
  {
   "cell_type": "markdown",
   "metadata": {},
   "source": [
    "## 最正規"
   ]
  },
  {
   "cell_type": "code",
   "execution_count": 11,
   "metadata": {},
   "outputs": [
    {
     "name": "stdout",
     "output_type": "stream",
     "text": [
      "您的手機號碼是:0925-555-666\n"
     ]
    }
   ],
   "source": [
    "#使用正規則表達式\n",
    "import re\n",
    "from re import Pattern,Match\n",
    "\n",
    "def isPhoneNumber(text:str) -> bool:\n",
    "    phoneNumRegex:Pattern = re.compile(r'^\\d{4}(-|_)\\d{3}(-|_)\\d{3}$')  #頭尾要加'^''$'\n",
    "    result:Match = re.match(phoneNumRegex,text)\n",
    "    if result is None:\n",
    "        return False\n",
    "    else:\n",
    "        return True\n",
    "    \n",
    "\n",
    "phone_number = input(\"請輸入手機號碼xxxx-xxx-xxx:\")\n",
    "if isPhoneNumber(phone_number):\n",
    "    print(f\"您的手機號碼是:{phone_number}\")\n",
    "else:\n",
    "    print('手機號碼格式不正確!')"
   ]
  },
  {
   "cell_type": "markdown",
   "metadata": {},
   "source": [
    "## 從海量文字中找到你需要的格式  list[可能有很多個]\n",
    "- re.compile(r'格式')\n",
    "- re.findall(pattern,text)"
   ]
  },
  {
   "cell_type": "code",
   "execution_count": 13,
   "metadata": {},
   "outputs": [
    {
     "data": {
      "text/plain": [
       "['0923-333-555', '0978-333-666']"
      ]
     },
     "execution_count": 13,
     "metadata": {},
     "output_type": "execute_result"
    }
   ],
   "source": [
    "string = \"My phone numbers are 0923-333-555 and 0978-333-666.\"\n",
    "phoneNumRegex:Pattern = re.compile(r'\\d{4}-\\d{3}-\\d{3}')\n",
    "digits:list = re.findall(phoneNumRegex,string=string)\n",
    "digits"
   ]
  }
 ],
 "metadata": {
  "kernelspec": {
   "display_name": "Python 3",
   "language": "python",
   "name": "python3"
  },
  "language_info": {
   "codemirror_mode": {
    "name": "ipython",
    "version": 3
   },
   "file_extension": ".py",
   "mimetype": "text/x-python",
   "name": "python",
   "nbconvert_exporter": "python",
   "pygments_lexer": "ipython3",
   "version": "3.10.15"
  }
 },
 "nbformat": 4,
 "nbformat_minor": 2
}
